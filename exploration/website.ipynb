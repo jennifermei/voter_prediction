{
 "cells": [
  {
   "cell_type": "code",
   "execution_count": 1,
   "metadata": {},
   "outputs": [],
   "source": [
    "import pywebio\n",
    "import pandas as pd\n",
    "from dicts import fips\n",
    "from functions import get_districts\n",
    "from model import create_models, predict_2020, predict_user_cd\n",
    "from mapping import mapping\n",
    "from cd_gui import gui_cd\n",
    "from pywebio.input import *\n",
    "from pywebio.output import *"
   ]
  },
  {
   "cell_type": "code",
   "execution_count": 3,
   "metadata": {},
   "outputs": [],
   "source": [
    "def website():\n",
    "\n",
    "    state_fips = fips()\n",
    "    state_names = list(state_fips)\n",
    "\n",
    "    # data = get_final_data()\n",
    "    data = pd.read_csv('final_data.csv')\n",
    "    data = data.dropna(axis=0)\n",
    "\n",
    "    rf_dem, rf_rep, scaler = create_models(data)\n",
    "    \n",
    "    while True:\n",
    "        clear()\n",
    "        choice = radio(\"Choose a congressional district, make your own, or just look at the whole map!\", options=['Select a state and district', 'Make my own district', 'Just show me the entire country!'], required=True)\n",
    "\n",
    "        if choice == 'Select a state and district':\n",
    "            pred_2020 = predict_2020(data, rf_dem, rf_rep, scaler)\n",
    "            state = select('Select a state: ', options=state_names)\n",
    "\n",
    "            if state:\n",
    "                districts = get_districts(pred_2020, state)\n",
    "                district = select('Select a congressional district: ', options=districts, required=True)\n",
    "                if district:\n",
    "                    put_text(f'You selected {state} Congressional District {district}!')\n",
    "                    put_text(\"Remember, this is my prediction of the 2020 election, not the real thing.\")\n",
    "                    fig = mapping(pred_2020, state, district)\n",
    "                    if fig == \"no json\":\n",
    "                        put_text(\"Sorry, the JSON we used is behind a congressional map so that district is unavailable.\")\n",
    "                        try_again = radio(\"Would you like to try another option?\", options=['Yes', 'No'], required=True)\n",
    "                        if try_again == 'Yes':\n",
    "                            continue\n",
    "                    html = fig.to_html(include_plotlyjs=\"require\", full_html=False)\n",
    "                    put_html(html)\n",
    "\n",
    "        elif choice == 'Make my own district':\n",
    "            user_cd = gui_cd()\n",
    "            user_cd_values = list(user_cd.values())\n",
    "            dem, rep, winner = predict_user_cd(user_cd_values, rf_dem, rf_rep, scaler)\n",
    "            if user_cd:\n",
    "                table_data = [['Demographic Feature', 'Percentage']]\n",
    "                table_data.extend([[key, str(value)] for key, value in user_cd.items()])\n",
    "                put_text(f\"Your congressional district will be split: {dem}% Democratic and {rep}% Republican.\")\n",
    "                put_text(f\"The {winner} Party wins!\")\n",
    "                put_text(\"As a reminder, here was your congressional district's demographic profile:\")\n",
    "                put_table(table_data)\n",
    "\n",
    "        elif choice == 'Just show me the entire country!':\n",
    "            put_text(\"Here's a map of my predictions for the 2020 elections! Feel free to look around.\")\n",
    "            pred_2020 = predict_2020(data, rf_dem, rf_rep, scaler)\n",
    "            fig = mapping(pred_2020)\n",
    "            html = fig.to_html(include_plotlyjs=\"require\", full_html=False)\n",
    "            put_html(html)\n",
    "\n",
    "        try_again = radio(\"Would you like to try another option?\", options=['Yes', 'No'], required=True)\n",
    "        if try_again == 'No':\n",
    "            break \n",
    "\n",
    "if __name__ == \"__main__\":\n",
    "    website()"
   ]
  },
  {
   "cell_type": "markdown",
   "metadata": {},
   "source": []
  }
 ],
 "metadata": {
  "kernelspec": {
   "display_name": "Python 3",
   "language": "python",
   "name": "python3"
  },
  "language_info": {
   "codemirror_mode": {
    "name": "ipython",
    "version": 3
   },
   "file_extension": ".py",
   "mimetype": "text/x-python",
   "name": "python",
   "nbconvert_exporter": "python",
   "pygments_lexer": "ipython3",
   "version": "3.10.13"
  }
 },
 "nbformat": 4,
 "nbformat_minor": 2
}
