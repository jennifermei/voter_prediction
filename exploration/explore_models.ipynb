{
 "cells": [
  {
   "cell_type": "code",
   "execution_count": 2,
   "metadata": {},
   "outputs": [],
   "source": [
    "from functions import percentage_within_threshold\n",
    "\n",
    "import pandas as pd\n",
    "import numpy as np\n",
    "import seaborn as sns\n",
    "from matplotlib import pyplot as plt\n",
    "from sklearn.ensemble import RandomForestRegressor, GradientBoostingRegressor\n",
    "from sklearn.linear_model import LinearRegression\n",
    "from sklearn.metrics import mean_squared_error\n",
    "from sklearn.model_selection import train_test_split\n",
    "from sklearn.preprocessing import StandardScaler"
   ]
  },
  {
   "cell_type": "code",
   "execution_count": 3,
   "metadata": {},
   "outputs": [],
   "source": [
    "data = pd.read_csv(\"final_data.csv\")\n",
    "data = data.dropna(axis=0)\n",
    "data.head()\n",
    "# features for training\n",
    "train_columns = ['Year', 'State FIPS', 'District', 'Voter Turnout %', 'Median Age', 'Median income',\n",
    "                 'Male Population %', 'Female Population %', 'White %', 'White (non Hispanic or Latino) %',\n",
    "                 'Hispanic or Latino %', 'Black %', 'American Indian %', 'Asian %', 'Pacific %', 'Multiracial %',\n",
    "                 'Less than HS %', 'HS grad %', 'Some college %', \"Bachelor's degree %\", \"Graduate degree %\",\n",
    "                 'Below poverty line %', 'Income under 25k %', 'Income 25k to 50k %', 'Income 50k to 75k %',\n",
    "                 'Income above 75k %']\n",
    "\n",
    "X = data[data['Year'] != 2020][train_columns].values\n",
    "y_democratic = data[data['Year'] != 2020]['Democratic %'].values\n",
    "y_republican = data[data['Year'] != 2020]['Republican %'].values\n",
    "\n",
    "scaler = StandardScaler()\n",
    "X = scaler.fit_transform(X)\n",
    "\n",
    "X_train, X_val, y_train_democratic, y_val_democratic, y_train_republican, y_val_republican = train_test_split(\n",
    "    X, y_democratic, y_republican, test_size=0.2, random_state=42\n",
    ")"
   ]
  },
  {
   "cell_type": "code",
   "execution_count": 4,
   "metadata": {},
   "outputs": [
    {
     "name": "stdout",
     "output_type": "stream",
     "text": [
      "RF Mean Squared Error for Democratic % on Validation Set: 247.1330302277992\n",
      "RF Mean Squared Error for Republican % on Validation Set: 231.2745419953668\n",
      "RF Percentage of predictions within 5% for Democratic %: 20.08%\n",
      "RF Percentage of predictions within 10% for Democratic %: 40.93%\n",
      "RF Percentage of predictions within 5% for Republican %: 25.10%\n",
      "RF Percentage of predictions within 10% for Republican %: 42.86%\n"
     ]
    }
   ],
   "source": [
    "rf_democratic = RandomForestRegressor(random_state=42)\n",
    "rf_democratic.fit(X_train, y_train_democratic)\n",
    "\n",
    "rf_republican = RandomForestRegressor(random_state=42)\n",
    "rf_republican.fit(X_train, y_train_republican)\n",
    "\n",
    "predictions_democratic_rf = rf_democratic.predict(X_val)\n",
    "predictions_republican_rf = rf_republican.predict(X_val)\n",
    "\n",
    "predictions_democratic_rf = np.clip(predictions_democratic_rf, 0, 100)\n",
    "predictions_republican_rf = np.clip(predictions_republican_rf, 0, 100)\n",
    "\n",
    "mse_democratic = mean_squared_error(y_val_democratic, predictions_democratic_rf)\n",
    "mse_republican = mean_squared_error(y_val_republican, predictions_republican_rf)\n",
    "\n",
    "accuracy_within_5_percent_democratic = percentage_within_threshold(y_val_democratic, predictions_democratic_rf, threshold_percent=5)\n",
    "accuracy_within_10_percent_democratic = percentage_within_threshold(y_val_democratic, predictions_democratic_rf, threshold_percent=10)\n",
    "accuracy_within_5_percent_republican = percentage_within_threshold(y_val_republican, predictions_republican_rf, threshold_percent=5)\n",
    "accuracy_within_10_percent_republican = percentage_within_threshold(y_val_republican, predictions_republican_rf, threshold_percent=10)\n",
    "\n",
    "print(\"RF Mean Squared Error for Democratic % on Validation Set:\", mse_democratic)\n",
    "print(\"RF Mean Squared Error for Republican % on Validation Set:\", mse_republican)\n",
    "print(f\"RF Percentage of predictions within 5% for Democratic %: {accuracy_within_5_percent_democratic:.2f}%\")\n",
    "print(f\"RF Percentage of predictions within 10% for Democratic %: {accuracy_within_10_percent_democratic:.2f}%\")\n",
    "print(f\"RF Percentage of predictions within 5% for Republican %: {accuracy_within_5_percent_republican:.2f}%\")\n",
    "print(f\"RF Percentage of predictions within 10% for Republican %: {accuracy_within_10_percent_republican:.2f}%\")"
   ]
  },
  {
   "cell_type": "code",
   "execution_count": 5,
   "metadata": {},
   "outputs": [
    {
     "name": "stdout",
     "output_type": "stream",
     "text": [
      "LR Mean Squared Error for Democratic % on Validation Set: 372.97121910310517\n",
      "LR Mean Squared Error for Republican % on Validation Set: 368.0229674466167\n",
      "LR Percentage of predictions within 5% for Democratic %: 20.08%\n",
      "LR Percentage of predictions within 10% for Democratic %: 40.93%\n",
      "LR Percentage of predictions within 5% for Republican %: 17.76%\n",
      "LR Percentage of predictions within 10% for Republican %: 29.73%\n"
     ]
    }
   ],
   "source": [
    "lr_democratic = LinearRegression()\n",
    "lr_democratic.fit(X_train, y_train_democratic)\n",
    "\n",
    "lr_republican = LinearRegression()\n",
    "lr_republican.fit(X_train, y_train_republican)\n",
    "\n",
    "predictions_democratic_lr = lr_democratic.predict(X_val)\n",
    "predictions_republican_lr = lr_republican.predict(X_val)\n",
    "\n",
    "predictions_democratic_lr = np.clip(predictions_democratic_lr, 0, 100)\n",
    "predictions_republican_lr = np.clip(predictions_republican_lr, 0, 100)\n",
    "\n",
    "mse_democratic = mean_squared_error(y_val_democratic, predictions_democratic_lr)\n",
    "mse_republican = mean_squared_error(y_val_republican, predictions_republican_lr)\n",
    "\n",
    "accuracy_within_5_percent_democratic = percentage_within_threshold(y_val_democratic, predictions_democratic_rf, threshold_percent=5)\n",
    "accuracy_within_10_percent_democratic = percentage_within_threshold(y_val_democratic, predictions_democratic_rf, threshold_percent=10)\n",
    "accuracy_within_5_percent_republican = percentage_within_threshold(y_val_republican, predictions_republican_lr, threshold_percent=5)\n",
    "accuracy_within_10_percent_republican = percentage_within_threshold(y_val_republican, predictions_republican_lr, threshold_percent=10)\n",
    "\n",
    "print(\"LR Mean Squared Error for Democratic % on Validation Set:\", mse_democratic)\n",
    "print(\"LR Mean Squared Error for Republican % on Validation Set:\", mse_republican)\n",
    "print(f\"LR Percentage of predictions within 5% for Democratic %: {accuracy_within_5_percent_democratic:.2f}%\")\n",
    "print(f\"LR Percentage of predictions within 10% for Democratic %: {accuracy_within_10_percent_democratic:.2f}%\")\n",
    "print(f\"LR Percentage of predictions within 5% for Republican %: {accuracy_within_5_percent_republican:.2f}%\")\n",
    "print(f\"LR Percentage of predictions within 10% for Republican %: {accuracy_within_10_percent_republican:.2f}%\")"
   ]
  },
  {
   "cell_type": "code",
   "execution_count": 6,
   "metadata": {},
   "outputs": [
    {
     "name": "stdout",
     "output_type": "stream",
     "text": [
      "GB Mean Squared Error for Democratic % on Validation Set: 218.68812287981285\n",
      "GB Mean Squared Error for Republican % on Validation Set: 283.4572613769281\n",
      "GB Percentage of predictions within 5% for Democratic %: 20.46%\n",
      "GB Percentage of predictions within 10% for Democratic %: 36.29%\n",
      "GB Percentage of predictions within 5% for Republican %: 14.67%\n",
      "GB Percentage of predictions within 10% for Republican %: 33.98%\n"
     ]
    }
   ],
   "source": [
    "gb_democratic = GradientBoostingRegressor(random_state=42)\n",
    "gb_democratic.fit(X_train, y_train_democratic)\n",
    "\n",
    "gb_republican = GradientBoostingRegressor(random_state=42)\n",
    "gb_republican.fit(X_train, y_train_republican)\n",
    "\n",
    "predictions_democratic_gb = gb_democratic.predict(X_val)\n",
    "predictions_republican_gb = gb_republican.predict(X_val)\n",
    "\n",
    "predictions_democratic_gb = np.clip(predictions_democratic_gb, 0, 100)\n",
    "predictions_republican_gb = np.clip(predictions_republican_gb, 0, 100)\n",
    "\n",
    "mse_democratic = mean_squared_error(y_val_democratic, predictions_democratic_gb)\n",
    "mse_republican = mean_squared_error(y_val_republican, predictions_republican_gb)\n",
    "\n",
    "accuracy_within_5_percent_democratic = percentage_within_threshold(y_val_democratic, predictions_democratic_gb, threshold_percent=5)\n",
    "accuracy_within_10_percent_democratic = percentage_within_threshold(y_val_democratic, predictions_democratic_gb, threshold_percent=10)\n",
    "accuracy_within_5_percent_republican = percentage_within_threshold(y_val_republican, predictions_republican_gb, threshold_percent=5)\n",
    "accuracy_within_10_percent_republican = percentage_within_threshold(y_val_republican, predictions_republican_gb, threshold_percent=10)\n",
    "\n",
    "print(\"GB Mean Squared Error for Democratic % on Validation Set:\", mse_democratic)\n",
    "print(\"GB Mean Squared Error for Republican % on Validation Set:\", mse_republican)\n",
    "print(f\"GB Percentage of predictions within 5% for Democratic %: {accuracy_within_5_percent_democratic:.2f}%\")\n",
    "print(f\"GB Percentage of predictions within 10% for Democratic %: {accuracy_within_10_percent_democratic:.2f}%\")\n",
    "print(f\"GB Percentage of predictions within 5% for Republican %: {accuracy_within_5_percent_republican:.2f}%\")\n",
    "print(f\"GB Percentage of predictions within 10% for Republican %: {accuracy_within_10_percent_republican:.2f}%\")"
   ]
  },
  {
   "cell_type": "code",
   "execution_count": 8,
   "metadata": {},
   "outputs": [],
   "source": [
    "data = pd.read_csv(\"final_data.csv\")\n",
    "data = data.dropna(axis=0)\n",
    "data.head()\n",
    "# features for training\n",
    "# take out: White, Multiracial, Pacific, Male, Female\n",
    "train_columns = ['Year', 'State FIPS', 'District', 'Voter Turnout %', 'Median Age', 'Median income',\n",
    "                 'White (non Hispanic or Latino) %', 'Hispanic or Latino %', 'Black %', 'American Indian %', 'Asian %', \n",
    "                 'Less than HS %', 'HS grad %', 'Some college %', \"Bachelor's degree %\", \"Graduate degree %\",\n",
    "                 'Below poverty line %', 'Income under 25k %', 'Income 25k to 50k %', 'Income 50k to 75k %','Income above 75k %']\n",
    "\n",
    "X = data[data['Year'] != 2020][train_columns].values\n",
    "y_democratic = data[data['Year'] != 2020]['Democratic %'].values\n",
    "y_republican = data[data['Year'] != 2020]['Republican %'].values\n",
    "\n",
    "scaler = StandardScaler()\n",
    "X = scaler.fit_transform(X)\n",
    "\n",
    "X_train, X_val, y_train_democratic, y_val_democratic, y_train_republican, y_val_republican = train_test_split(\n",
    "    X, y_democratic, y_republican, test_size=0.2, random_state=42\n",
    ")"
   ]
  },
  {
   "cell_type": "code",
   "execution_count": 9,
   "metadata": {},
   "outputs": [
    {
     "name": "stdout",
     "output_type": "stream",
     "text": [
      "RF Mean Squared Error for Democratic % on Validation Set: 254.34187636266404\n",
      "RF Mean Squared Error for Republican % on Validation Set: 246.08595490277992\n",
      "RF Percentage of predictions within 5% for Democratic %: 20.46%\n",
      "RF Percentage of predictions within 10% for Democratic %: 38.61%\n",
      "RF Percentage of predictions within 5% for Republican %: 18.92%\n",
      "RF Percentage of predictions within 10% for Republican %: 40.15%\n"
     ]
    }
   ],
   "source": [
    "rf_democratic = RandomForestRegressor(random_state=42)\n",
    "rf_democratic.fit(X_train, y_train_democratic)\n",
    "\n",
    "rf_republican = RandomForestRegressor(random_state=42)\n",
    "rf_republican.fit(X_train, y_train_republican)\n",
    "\n",
    "predictions_democratic_rf = rf_democratic.predict(X_val)\n",
    "predictions_republican_rf = rf_republican.predict(X_val)\n",
    "\n",
    "predictions_democratic_rf = np.clip(predictions_democratic_rf, 0, 100)\n",
    "predictions_republican_rf = np.clip(predictions_republican_rf, 0, 100)\n",
    "\n",
    "mse_democratic = mean_squared_error(y_val_democratic, predictions_democratic_rf)\n",
    "mse_republican = mean_squared_error(y_val_republican, predictions_republican_rf)\n",
    "\n",
    "accuracy_within_5_percent_democratic = percentage_within_threshold(y_val_democratic, predictions_democratic_rf, threshold_percent=5)\n",
    "accuracy_within_10_percent_democratic = percentage_within_threshold(y_val_democratic, predictions_democratic_rf, threshold_percent=10)\n",
    "accuracy_within_5_percent_republican = percentage_within_threshold(y_val_republican, predictions_republican_rf, threshold_percent=5)\n",
    "accuracy_within_10_percent_republican = percentage_within_threshold(y_val_republican, predictions_republican_rf, threshold_percent=10)\n",
    "\n",
    "print(\"RF Mean Squared Error for Democratic % on Validation Set:\", mse_democratic)\n",
    "print(\"RF Mean Squared Error for Republican % on Validation Set:\", mse_republican)\n",
    "print(f\"RF Percentage of predictions within 5% for Democratic %: {accuracy_within_5_percent_democratic:.2f}%\")\n",
    "print(f\"RF Percentage of predictions within 10% for Democratic %: {accuracy_within_10_percent_democratic:.2f}%\")\n",
    "print(f\"RF Percentage of predictions within 5% for Republican %: {accuracy_within_5_percent_republican:.2f}%\")\n",
    "print(f\"RF Percentage of predictions within 10% for Republican %: {accuracy_within_10_percent_republican:.2f}%\")"
   ]
  }
 ],
 "metadata": {
  "kernelspec": {
   "display_name": "base",
   "language": "python",
   "name": "python3"
  },
  "language_info": {
   "codemirror_mode": {
    "name": "ipython",
    "version": 3
   },
   "file_extension": ".py",
   "mimetype": "text/x-python",
   "name": "python",
   "nbconvert_exporter": "python",
   "pygments_lexer": "ipython3",
   "version": "3.10.13"
  }
 },
 "nbformat": 4,
 "nbformat_minor": 2
}
